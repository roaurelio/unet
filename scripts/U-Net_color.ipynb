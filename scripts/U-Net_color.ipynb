{
 "cells": [
  {
   "cell_type": "markdown",
   "metadata": {},
   "source": [
    "### Training of modified U-Net for Optic Disc on DRISHTI-GS database"
   ]
  },
  {
   "cell_type": "code",
   "execution_count": null,
   "metadata": {},
   "outputs": [],
   "source": [
    "%load_ext autoreload\n",
    "%autoreload 2\n",
    "\n",
    "import tensorflow as tf\n",
    "import matplotlib.pyplot as plt\n",
    "import h5py\n",
    "import os\n",
    "\n",
    "from model import *\n",
    "from process_images import *\n",
    "from process_result import *\n",
    "\n",
    "print('Keras version:', keras.__version__)\n",
    "print('TensorFlow version:', tf.__version__)"
   ]
  },
  {
   "cell_type": "markdown",
   "metadata": {},
   "source": [
    "#### DRISHTI-GS\n",
    "\n",
    "Carrega imagens de treino e teste com tamanho 512px."
   ]
  },
  {
   "cell_type": "code",
   "execution_count": null,
   "metadata": {},
   "outputs": [],
   "source": [
    "h5f = h5py.File(os.path.join(os.path.dirname(os.getcwd()), 'data', 'hdf5_datasets', 'DRISHTI_GS.hdf5'), 'a')\n",
    "#-----------------------------------------------------------------------------------------------------------#\n",
    "img_train = h5f['DRISHTI-GS/512 px/img_cropped_30']\n",
    "cup_train = h5f['DRISHTI-GS/512 px/cup_cropped_30']\n",
    "disc_train = h5f['DRISHTI-GS/512 px/disc_cropped_30']\n",
    "\n",
    "img_test = h5f['DRISHTI-GS-test/512 px/img_cropped_30']\n",
    "cup_test = h5f['DRISHTI-GS-test/512 px/cup_cropped_30']\n",
    "disc_test = h5f['DRISHTI-GS-test/512 px/disc_cropped_30']"
   ]
  },
  {
   "cell_type": "markdown",
   "metadata": {},
   "source": [
    "#### Generator of augmented data:"
   ]
  },
  {
   "cell_type": "code",
   "execution_count": null,
   "metadata": {
    "scrolled": true
   },
   "outputs": [],
   "source": [
    "gen = data_generator(img_train, cup_train, 128, 'train', batch_size=1)\n",
    "batch = next(gen)\n",
    "cur = batch[0][0].copy()\n",
    "cur[np.where(batch[1][0])] /= 4\n",
    "plt.imshow(cur)\n",
    "plt.show()"
   ]
  },
  {
   "cell_type": "code",
   "execution_count": null,
   "metadata": {},
   "outputs": [],
   "source": [
    "img_size = IMG_SIZE\n",
    "\n",
    "X_test, Y_test = next(data_generator(img_test, cup_test, img_size,  train_or_test='test', batch_size=100, stationary=True))\n",
    "len(X_test), len(Y_test)"
   ]
  },
  {
   "cell_type": "code",
   "execution_count": null,
   "metadata": {},
   "outputs": [],
   "source": [
    "cur = X_test[27].copy()\n",
    "cur[np.where(Y_test[27])] /= 4\n",
    "plt.imshow(cur)\n",
    "plt.show()"
   ]
  },
  {
   "cell_type": "markdown",
   "metadata": {},
   "source": [
    "### Training and testing cup"
   ]
  },
  {
   "cell_type": "code",
   "execution_count": null,
   "metadata": {
    "scrolled": true
   },
   "outputs": [],
   "source": [
    "epochs = NUM_EPOCHS\n",
    "spe = SPE\n",
    "arq_name = 'lr_7_e_4_gap_70'\n",
    "model = create_compile_model(img_size, 7e-4)\n",
    "history_cup = train_cup(img_train, \n",
    "                    cup_train, \n",
    "                    'cup_color', \n",
    "                    model, epochs, X_test, Y_test, img_size, spe)"
   ]
  },
  {
   "cell_type": "markdown",
   "metadata": {},
   "source": [
    "### Visual check"
   ]
  },
  {
   "cell_type": "code",
   "execution_count": null,
   "metadata": {
    "scrolled": true
   },
   "outputs": [],
   "source": [
    "pred_iou, pred_dice, pred_cup = predict(img_test, X_test, Y_test, model, img_size)"
   ]
  },
  {
   "cell_type": "code",
   "execution_count": null,
   "metadata": {},
   "outputs": [],
   "source": [
    "folder_name = root_path(arq_name)"
   ]
  },
  {
   "cell_type": "code",
   "execution_count": null,
   "metadata": {},
   "outputs": [],
   "source": [
    "print(np.mean(pred_iou))\n",
    "print(np.mean(pred_dice))\n",
    "save_iou_dice(np.mean(pred_iou), np.mean(pred_dice), folder_name, 'rgb_color_mean_iou_dice_cup.csv')"
   ]
  },
  {
   "cell_type": "code",
   "execution_count": null,
   "metadata": {},
   "outputs": [],
   "source": [
    "X_test, Z_test = next(data_generator(img_test, disc_test, img_size, train_or_test='test', batch_size=100, stationary=True))"
   ]
  },
  {
   "cell_type": "code",
   "execution_count": null,
   "metadata": {},
   "outputs": [],
   "source": [
    "cur = X_test[10].copy()\n",
    "cur[np.where(Z_test[10])] /= 4\n",
    "plt.imshow(cur)\n",
    "plt.show()"
   ]
  },
  {
   "cell_type": "code",
   "execution_count": null,
   "metadata": {},
   "outputs": [],
   "source": [
    "model_disc = create_compile_model(img_size, 1e-3)\n",
    "\n",
    "history_disc = train_disc(img_train, \n",
    "                     disc_train, \n",
    "                     'disc_color', \n",
    "                     model_disc, epochs, X_test, Z_test, img_size, spe)"
   ]
  },
  {
   "cell_type": "code",
   "execution_count": null,
   "metadata": {},
   "outputs": [],
   "source": [
    "pred_iou, pred_dice, pred_disc = predict(img_test, X_test, Z_test, model_disc, img_size)"
   ]
  },
  {
   "cell_type": "code",
   "execution_count": null,
   "metadata": {},
   "outputs": [],
   "source": [
    "print(np.mean(pred_iou))\n",
    "print(np.mean(pred_dice))\n",
    "save_iou_dice(np.mean(pred_iou), np.mean(pred_dice), folder_name, 'rgb_color_mean_iou_dice_disc.csv')"
   ]
  },
  {
   "cell_type": "code",
   "execution_count": null,
   "metadata": {},
   "outputs": [],
   "source": [
    "plot_results(history_cup, epochs, folder_name, arq_name+'_cup')"
   ]
  },
  {
   "cell_type": "code",
   "execution_count": null,
   "metadata": {},
   "outputs": [],
   "source": [
    "plot_results(history_disc, epochs, folder_name, arq_name+'_disc')"
   ]
  },
  {
   "cell_type": "code",
   "execution_count": null,
   "metadata": {},
   "outputs": [],
   "source": [
    "df, diametros = create_table_result(pred_cup, pred_disc, test_idx, folder_name,'rgb_color')"
   ]
  },
  {
   "cell_type": "code",
   "execution_count": null,
   "metadata": {},
   "outputs": [],
   "source": [
    "df"
   ]
  },
  {
   "cell_type": "code",
   "execution_count": null,
   "metadata": {},
   "outputs": [],
   "source": [
    "diametros"
   ]
  }
 ],
 "metadata": {
  "kernelspec": {
   "display_name": "Python 3",
   "language": "python",
   "name": "python3"
  },
  "language_info": {
   "codemirror_mode": {
    "name": "ipython",
    "version": 3
   },
   "file_extension": ".py",
   "mimetype": "text/x-python",
   "name": "python",
   "nbconvert_exporter": "python",
   "pygments_lexer": "ipython3",
   "version": "3.9.0"
  }
 },
 "nbformat": 4,
 "nbformat_minor": 4
}
