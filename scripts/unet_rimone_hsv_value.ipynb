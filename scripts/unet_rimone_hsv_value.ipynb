{
 "cells": [
  {
   "cell_type": "markdown",
   "metadata": {},
   "source": [
    "### Training of modified U-Net for Optic Disc on RIM-ONE v3 database (cross-validation fold #0)."
   ]
  },
  {
   "cell_type": "code",
   "execution_count": 1,
   "metadata": {},
   "outputs": [
    {
     "name": "stdout",
     "output_type": "stream",
     "text": [
      "Keras version: 2.5.0\n",
      "TensorFlow version: 2.5.0\n"
     ]
    }
   ],
   "source": [
    "%load_ext autoreload\n",
    "%autoreload 2\n",
    "\n",
    "import tensorflow as tf\n",
    "import matplotlib.pyplot as plt\n",
    "\n",
    "from model_rimone import *\n",
    "from process_images_rimone import *\n",
    "from process_result import *\n",
    "\n",
    "print('Keras version:', keras.__version__)\n",
    "print('TensorFlow version:', tf.__version__)"
   ]
  },
  {
   "cell_type": "code",
   "execution_count": 2,
   "metadata": {},
   "outputs": [],
   "source": [
    "suf = '_gap_70'\n",
    "epochs = NUM_EPOCHS\n",
    "spe = SPE\n",
    "img_size = IMG_SIZE\n",
    "arq_name = 'rim_one_hsv_value'\n",
    "lr_cup = 7e-4\n",
    "prefix_results = 'hsv_value'\n",
    "\n",
    "arch_name_cup = \"Cup, log_dice loss\"\n",
    "arch_name_disc = \"Disc, log_dice loss\""
   ]
  },
  {
   "cell_type": "code",
   "execution_count": 3,
   "metadata": {},
   "outputs": [],
   "source": [
    "images, cups, discs = get_images(suf)\n",
    "images = convert_to_hsv(2, images)\n",
    "labels = np.array(h5f['RIM-ONE v3/512 px/is_ill'])"
   ]
  },
  {
   "cell_type": "code",
   "execution_count": null,
   "metadata": {},
   "outputs": [],
   "source": [
    "num_splits = 5\n",
    "train_idx_cv, test_idx_cv = [], []\n",
    "for _train_idx, _test_idx in KFold(n_splits=num_splits, random_state=1, shuffle=True).split(images):\n",
    "    train_idx_cv.append(_train_idx)\n",
    "    test_idx_cv.append(_test_idx)\n",
    "    \n",
    "train_idx = train_idx_cv[0]\n",
    "test_idx = test_idx_cv[0]\n",
    "print(len(train_idx))\n",
    "print(len(test_idx))"
   ]
  },
  {
   "cell_type": "code",
   "execution_count": null,
   "metadata": {},
   "outputs": [],
   "source": [
    "for k in range(num_splits):\n",
    "    folder_name = root_path_kfold(arq_name, k)\n",
    "    \n",
    "    train_idx = train_idx_cv[k]\n",
    "    test_idx = test_idx_cv[k]\n",
    "    \n",
    "    print('------------- training cup --------------')\n",
    "    \n",
    "    X_valid, Y_valid = next(data_generator(images, cups, train_idx, test_idx, train_or_test = 'test', batch_size=100, stationary=True))\n",
    "    model = create_compile_model(img_size, lr_cup)\n",
    "    weights_folder = os.path.join(folder_name, 'models_weights', '{},{}'.format(datetime.now().strftime('%d.%m,%H-%M'), arch_name_cup))\n",
    "    \n",
    "    history_cup = train_cup(images, cups, 'cup_' + prefix_results + '_rimone', \n",
    "                         model, epochs, X_valid, Y_valid, img_size, spe, train_idx, test_idx, weights_folder)\n",
    "    \n",
    "    pred_iou, pred_dice, pred_cup = predict(images, X_valid, Y_valid, model, img_size, test_idx)\n",
    "    save_iou_dice(np.mean(pred_iou), np.mean(pred_dice), folder_name, prefix_results + '_mean_iou_dice_cup.csv')\n",
    "    save_predict_images(folder_name, 'cups', test_idx, pred_cup)\n",
    "        \n",
    "    print('------------- training disc --------------')\n",
    "    \n",
    "    X_valid, Z_valid = next(data_generator(images, discs, train_idx, test_idx, train_or_test='test', batch_size=100, stationary=True))\n",
    "    model_disc = create_compile_model(img_size, 1e-3)\n",
    "    weights_folder = os.path.join(folder_name, 'models_weights', '{},{}'.format(datetime.now().strftime('%d.%m,%H-%M'), arch_name_disc))\n",
    "    \n",
    "    history_disc = train_disc(images, discs, 'disc_' + prefix_results + '_rimone', \n",
    "                         model_disc, epochs, X_valid, Z_valid, img_size, spe, train_idx, test_idx, weights_folder)\n",
    "    \n",
    "    pred_iou, pred_dice, pred_disc = predict(images, X_valid, Z_valid, model_disc, img_size, test_idx)\n",
    "    save_iou_dice(np.mean(pred_iou), np.mean(pred_dice), folder_name, prefix_results + '_mean_iou_dice_disc.csv')\n",
    "    save_predict_images(folder_name, 'discs', test_idx, pred_disc)\n",
    "    \n",
    "    print('------------- results --------------')\n",
    "    \n",
    "    plot_results(history_cup, epochs, folder_name, arq_name + '_cup')\n",
    "    plot_results(history_disc, epochs, folder_name, arq_name + '_disc')\n",
    "    df, diametros = create_table_result_rimone(pred_cup, pred_disc, test_idx, folder_name, prefix_results, labels) \n",
    "    "
   ]
  }
 ],
 "metadata": {
  "kernelspec": {
   "display_name": "Python 3",
   "language": "python",
   "name": "python3"
  },
  "language_info": {
   "codemirror_mode": {
    "name": "ipython",
    "version": 3
   },
   "file_extension": ".py",
   "mimetype": "text/x-python",
   "name": "python",
   "nbconvert_exporter": "python",
   "pygments_lexer": "ipython3",
   "version": "3.9.0"
  }
 },
 "nbformat": 4,
 "nbformat_minor": 4
}
