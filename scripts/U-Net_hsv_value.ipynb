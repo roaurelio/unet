{
 "cells": [
  {
   "cell_type": "markdown",
   "metadata": {},
   "source": [
    "### Training of modified U-Net for Optic Disc on DRISHTI-GS database (cross-validation fold #0)."
   ]
  },
  {
   "cell_type": "code",
   "execution_count": null,
   "metadata": {},
   "outputs": [],
   "source": [
    "%load_ext autoreload\n",
    "%autoreload 2\n",
    "\n",
    "import tensorflow as tf\n",
    "import matplotlib.pyplot as plt\n",
    "import h5py\n",
    "\n",
    "from model import *\n",
    "from process_images import *\n",
    "from process_result import *\n",
    "\n",
    "print('Keras version:', keras.__version__)\n",
    "print('TensorFlow version:', tf.__version__)"
   ]
  },
  {
   "cell_type": "markdown",
   "metadata": {},
   "source": [
    "#### DRISHTI-GS\n",
    "\n",
    "Accessing data, preparing train/validation sets division:"
   ]
  },
  {
   "cell_type": "code",
   "execution_count": null,
   "metadata": {},
   "outputs": [],
   "source": [
    "h5f = h5py.File(os.path.join(os.path.dirname(os.getcwd()), 'data', 'hdf5_datasets', 'DRISHTI_GS.hdf5'), 'r')\n",
    "\n",
    "###############################################################################################################\n",
    "\n",
    "img_train = h5f['DRISHTI-GS/512 px/images']\n",
    "cup_train = h5f['DRISHTI-GS/512 px/cup']\n",
    "disc_train = h5f['DRISHTI-GS/512 px/disc']\n",
    "disc_locations = h5f['DRISHTI-GS/512 px/disc_locations']\n",
    "disc_locations_cup = h5f['DRISHTI-GS/512 px/disc_locations_20']\n",
    "\n",
    "img_test = h5f['DRISHTI-GS-test/512 px/images']\n",
    "cup_test = h5f['DRISHTI-GS-test/512 px/cup']\n",
    "disc_test = h5f['DRISHTI-GS-test/512 px/disc']\n",
    "disc_locations_test = h5f['DRISHTI-GS-test/512 px/disc_locations']\n",
    "disc_locations_cup_test = h5f['DRISHTI-GS-test/512 px/disc_locations_20']"
   ]
  },
  {
   "cell_type": "markdown",
   "metadata": {},
   "source": [
    "### Train images"
   ]
  },
  {
   "cell_type": "code",
   "execution_count": null,
   "metadata": {},
   "outputs": [],
   "source": [
    "value_channel_train = convert_to_hsv(2, img_train)\n",
    "len(value_channel_train)"
   ]
  },
  {
   "cell_type": "markdown",
   "metadata": {},
   "source": [
    "### Test images"
   ]
  },
  {
   "cell_type": "code",
   "execution_count": null,
   "metadata": {},
   "outputs": [],
   "source": [
    "value_channel_test = convert_to_hsv(2, img_test)\n",
    "len(value_channel_test)"
   ]
  },
  {
   "cell_type": "markdown",
   "metadata": {},
   "source": [
    "#### Generator of augmented data:"
   ]
  },
  {
   "cell_type": "code",
   "execution_count": null,
   "metadata": {},
   "outputs": [],
   "source": [
    "gen = data_generator(value_channel_train, cup_train, disc_locations, 128, 'train', batch_size=1)\n",
    "batch = next(gen)\n",
    "\n",
    "plt.imshow(batch[0][0])"
   ]
  },
  {
   "cell_type": "code",
   "execution_count": null,
   "metadata": {},
   "outputs": [],
   "source": [
    "img_size = IMG_SIZE\n",
    "\n",
    "X_test, Y_test = next(data_generator(value_channel_test, cup_test, disc_locations_cup_test, img_size, train_or_test='test', batch_size=100, stationary=True))\n",
    "print(len(X_test)) \n",
    "print(len(Y_test))"
   ]
  },
  {
   "cell_type": "markdown",
   "metadata": {},
   "source": [
    "### Training and test cup"
   ]
  },
  {
   "cell_type": "code",
   "execution_count": null,
   "metadata": {
    "scrolled": true
   },
   "outputs": [],
   "source": [
    "epochs = NUM_EPOCHS\n",
    "spe = SPE\n",
    "model = create_compile_model(img_size, 3e-4)\n",
    "history_cup = train_cup(value_channel_train, \n",
    "                    cup_train, \n",
    "                    disc_locations_cup, \n",
    "                    'cup_value', \n",
    "                    model, \n",
    "                    epochs, X_test, Y_test, img_size, spe)"
   ]
  },
  {
   "cell_type": "markdown",
   "metadata": {},
   "source": [
    "### Visual check"
   ]
  },
  {
   "cell_type": "code",
   "execution_count": null,
   "metadata": {
    "scrolled": true
   },
   "outputs": [],
   "source": [
    "pred_iou, pred_dice, pred_cup = predict(value_channel_test, X_test, Y_test, model, img_size)"
   ]
  },
  {
   "cell_type": "code",
   "execution_count": null,
   "metadata": {},
   "outputs": [],
   "source": [
    "print(np.mean(pred_iou))\n",
    "print(np.mean(pred_dice))"
   ]
  },
  {
   "cell_type": "code",
   "execution_count": null,
   "metadata": {},
   "outputs": [],
   "source": [
    "print(np.std(pred_iou))\n",
    "print(np.std(pred_dice))"
   ]
  },
  {
   "cell_type": "markdown",
   "metadata": {},
   "source": [
    "### Training and Test disc"
   ]
  },
  {
   "cell_type": "code",
   "execution_count": null,
   "metadata": {},
   "outputs": [],
   "source": [
    "X_test, Z_test = next(data_generator(value_channel_test, disc_test, disc_locations_test, img_size, train_or_test='test', batch_size=100, stationary=True))\n",
    "\n",
    "num = 1\n",
    "for i in range(num):\n",
    "    fig = plt.figure(figsize=(4, 4))\n",
    "    ax = fig.add_subplot(1, 2, 1)\n",
    "    ax.imshow(np.squeeze(X_test[i]), cmap=plt.cm.Greys_r)\n",
    "    ax = fig.add_subplot(1, 2, 2)\n",
    "    ax.imshow(np.squeeze(Z_test[i]), cmap=plt.cm.Greys_r)\n",
    "    plt.show()\n",
    "    print('=========================')"
   ]
  },
  {
   "cell_type": "code",
   "execution_count": null,
   "metadata": {},
   "outputs": [],
   "source": [
    "model_disc = create_compile_model(img_size, 1e-3) \n",
    "\n",
    "history_disc = train(value_channel_train, \n",
    "                     disc_train, \n",
    "                     disc_locations, \n",
    "                     'disc_value', \n",
    "                     model_disc, epochs, X_test, Z_test, img_size, spe)"
   ]
  },
  {
   "cell_type": "code",
   "execution_count": null,
   "metadata": {},
   "outputs": [],
   "source": [
    "pred_iou, pred_dice, pred_disc = predict(value_channel_test, X_test, Z_test, model_disc, img_size)"
   ]
  },
  {
   "cell_type": "code",
   "execution_count": null,
   "metadata": {},
   "outputs": [],
   "source": [
    "print(np.mean(pred_iou))\n",
    "print(np.mean(pred_dice))"
   ]
  },
  {
   "cell_type": "code",
   "execution_count": null,
   "metadata": {},
   "outputs": [],
   "source": [
    "print(np.std(pred_iou))\n",
    "print(np.std(pred_dice))"
   ]
  },
  {
   "cell_type": "code",
   "execution_count": null,
   "metadata": {},
   "outputs": [],
   "source": [
    "plot_results(history_cup, epochs)"
   ]
  },
  {
   "cell_type": "code",
   "execution_count": null,
   "metadata": {},
   "outputs": [],
   "source": [
    "plot_results(history_disc, epochs)"
   ]
  },
  {
   "cell_type": "code",
   "execution_count": null,
   "metadata": {},
   "outputs": [],
   "source": [
    "df, diametros = create_table_result(pred_cup, pred_disc, test_idx, 'hsv_value')"
   ]
  },
  {
   "cell_type": "code",
   "execution_count": null,
   "metadata": {},
   "outputs": [],
   "source": [
    "print(df)"
   ]
  },
  {
   "cell_type": "code",
   "execution_count": null,
   "metadata": {},
   "outputs": [],
   "source": [
    "print(diametros)"
   ]
  }
 ],
 "metadata": {
  "kernelspec": {
   "display_name": "Python 3",
   "language": "python",
   "name": "python3"
  },
  "language_info": {
   "codemirror_mode": {
    "name": "ipython",
    "version": 3
   },
   "file_extension": ".py",
   "mimetype": "text/x-python",
   "name": "python",
   "nbconvert_exporter": "python",
   "pygments_lexer": "ipython3",
   "version": "3.9.0"
  }
 },
 "nbformat": 4,
 "nbformat_minor": 4
}
