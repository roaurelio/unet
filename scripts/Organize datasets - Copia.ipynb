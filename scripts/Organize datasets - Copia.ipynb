{
 "cells": [
  {
   "cell_type": "code",
   "execution_count": null,
   "metadata": {},
   "outputs": [],
   "source": [
    "%load_ext autoreload\n",
    "%autoreload 2"
   ]
  },
  {
   "cell_type": "code",
   "execution_count": 1,
   "metadata": {},
   "outputs": [],
   "source": [
    "import os\n",
    "from operator import attrgetter\n",
    "from platform import python_version_tuple\n",
    "\n",
    "xrange = range\n",
    "\n",
    "import scipy as sp\n",
    "import scipy.ndimage\n",
    "import numpy as np\n",
    "import pandas as pd\n",
    "import skimage\n",
    "import skimage.measure\n",
    "from PIL import Image\n",
    "import matplotlib.pyplot as plt\n",
    "%matplotlib inline\n",
    "import cv2\n",
    "import h5py\n",
    "from tqdm import tqdm_notebook\n",
    "from IPython.display import display\n",
    "from extract_data import *\n",
    "from skimage.transform import resize\n",
    "from dual_IDG import DualImageDataGenerator\n"
   ]
  },
  {
   "cell_type": "code",
   "execution_count": null,
   "metadata": {},
   "outputs": [],
   "source": [
    "h5f = h5py.File(os.path.join(os.path.dirname(os.getcwd()), 'data', 'hdf5_datasets', 'DRISHTI_GS.hdf5'), 'a')"
   ]
  },
  {
   "cell_type": "markdown",
   "metadata": {},
   "source": [
    "### Exploring data"
   ]
  },
  {
   "cell_type": "code",
   "execution_count": null,
   "metadata": {},
   "outputs": [],
   "source": [
    "h5py.__version__"
   ]
  },
  {
   "cell_type": "code",
   "execution_count": null,
   "metadata": {},
   "outputs": [],
   "source": [
    "X_train, disc_train, cup_train, file_codes_train = extract_DRISHTI_GS_train(os.path.join(os.path.dirname(os.getcwd()), 'data', 'Drishti-GS'))\n",
    "print(len(X_train), X_train[0].shape, len(disc_train), disc_train[0].shape, len(cup_train), cup_train[0].shape, len(file_codes_train))"
   ]
  },
  {
   "cell_type": "code",
   "execution_count": null,
   "metadata": {},
   "outputs": [],
   "source": [
    "plt.imshow(X_train[49])"
   ]
  },
  {
   "cell_type": "markdown",
   "metadata": {},
   "source": [
    "#### DRISHTI-GS (train)"
   ]
  },
  {
   "cell_type": "code",
   "execution_count": null,
   "metadata": {},
   "outputs": [],
   "source": [
    "resolution = get_resolution_DRISHTI_GS()\n",
    "str_dt = h5py.special_dtype(vlen=str)"
   ]
  },
  {
   "cell_type": "markdown",
   "metadata": {},
   "source": [
    "### Resizing Training Data"
   ]
  },
  {
   "cell_type": "code",
   "execution_count": null,
   "metadata": {},
   "outputs": [],
   "source": [
    "resolutions = (512, 256, 128)\n",
    "\n",
    "for res in resolutions:\n",
    "    h5f.create_group(\"DRISHTI-GS/{} px\".format(res))"
   ]
  },
  {
   "cell_type": "code",
   "execution_count": 41,
   "metadata": {},
   "outputs": [
    {
     "ename": "NameError",
     "evalue": "name 'X_train' is not defined",
     "output_type": "error",
     "traceback": [
      "\u001b[1;31m---------------------------------------------------------------------------\u001b[0m",
      "\u001b[1;31mNameError\u001b[0m                                 Traceback (most recent call last)",
      "\u001b[1;32m<ipython-input-41-3de619a0c6a9>\u001b[0m in \u001b[0;36m<module>\u001b[1;34m\u001b[0m\n\u001b[0;32m      1\u001b[0m \u001b[0mdb\u001b[0m \u001b[1;33m=\u001b[0m \u001b[1;34m'DRISHTI-GS'\u001b[0m\u001b[1;33m\u001b[0m\u001b[1;33m\u001b[0m\u001b[0m\n\u001b[1;32m----> 2\u001b[1;33m \u001b[0mX_ds\u001b[0m \u001b[1;33m=\u001b[0m  \u001b[0mnp\u001b[0m\u001b[1;33m.\u001b[0m\u001b[0marray\u001b[0m\u001b[1;33m(\u001b[0m\u001b[0mX_train\u001b[0m\u001b[1;33m)\u001b[0m\u001b[1;33m\u001b[0m\u001b[1;33m\u001b[0m\u001b[0m\n\u001b[0m\u001b[0;32m      3\u001b[0m \u001b[0mdisc_ds\u001b[0m \u001b[1;33m=\u001b[0m \u001b[0mnp\u001b[0m\u001b[1;33m.\u001b[0m\u001b[0marray\u001b[0m\u001b[1;33m(\u001b[0m\u001b[0mdisc_train\u001b[0m\u001b[1;33m)\u001b[0m\u001b[1;33m\u001b[0m\u001b[1;33m\u001b[0m\u001b[0m\n\u001b[0;32m      4\u001b[0m \u001b[0mcup_ds\u001b[0m \u001b[1;33m=\u001b[0m \u001b[0mnp\u001b[0m\u001b[1;33m.\u001b[0m\u001b[0marray\u001b[0m\u001b[1;33m(\u001b[0m\u001b[0mcup_train\u001b[0m\u001b[1;33m)\u001b[0m\u001b[1;33m\u001b[0m\u001b[1;33m\u001b[0m\u001b[0m\n\u001b[0;32m      5\u001b[0m \u001b[0mfile_codes_ds\u001b[0m \u001b[1;33m=\u001b[0m \u001b[0mnp\u001b[0m\u001b[1;33m.\u001b[0m\u001b[0marray\u001b[0m\u001b[1;33m(\u001b[0m\u001b[0mfile_codes_train\u001b[0m\u001b[1;33m)\u001b[0m\u001b[1;33m\u001b[0m\u001b[1;33m\u001b[0m\u001b[0m\n",
      "\u001b[1;31mNameError\u001b[0m: name 'X_train' is not defined"
     ]
    }
   ],
   "source": [
    "db = 'DRISHTI-GS'\n",
    "X_ds =  np.array(X_train)\n",
    "disc_ds = np.array(disc_train)\n",
    "cup_ds = np.array(cup_train)\n",
    "file_codes_ds = np.array(file_codes_train)"
   ]
  },
  {
   "cell_type": "code",
   "execution_count": null,
   "metadata": {},
   "outputs": [],
   "source": [
    "for res in resolutions:\n",
    "    print('Copying data for {}, resolution {}'.format(db, res))\n",
    "    X_small_ds = h5f.create_dataset(\"{}/{} px/images\".format(db, res), \n",
    "                                    (X_ds.shape[0], res, res, 3,), \n",
    "                                    chunks=(2, res, res, 3,), \n",
    "                                    dtype=X_ds.dtype, compression=\"gzip\")\n",
    "    disc_small_ds = h5f.create_dataset(\"{}/{} px/disc\".format(db, res), \n",
    "                                       (X_ds.shape[0], res, res, 1,),  \n",
    "                                       chunks=(2, res, res, 1,), \n",
    "                                       dtype=X_ds.dtype, compression=\"gzip\")\n",
    "    cup_small_ds = h5f.create_dataset(\"{}/{} px/cup\".format(db, res), \n",
    "                                  (X_ds.shape[0], res, res, 1,),  \n",
    "                                  chunks=(2, res, res, 1,), \n",
    "                                  dtype=cup_ds.dtype, compression=\"gzip\")\n",
    "    str_dt = h5py.special_dtype(vlen=str_dt)\n",
    "    file_codes_small_ds = h5f.create_dataset(\"{}/{} px/file_codes\".format(db, res), \n",
    "                                             (X_ds.shape[0],),  \n",
    "                                             chunks=True, \n",
    "                                             dtype=str_dt, compression=\"gzip\")\n",
    "\n",
    "    for i in tqdm_notebook(xrange(X_ds.shape[0]), leave=True):\n",
    "        X_small_ds[i,:,:,:] = resize(X_ds[i], (res, res)) \n",
    "        \n",
    "        cur_disc_small = resize(disc_ds[i][..., 0], (res, res))\n",
    "        disc_small_ds[i,:,:] = cur_disc_small[..., np.newaxis]\n",
    "        \n",
    "        cur_cup_small =  resize(cup_ds[i][..., 0], (res, res))\n",
    "        cup_small_ds[i] = cur_cup_small[..., np.newaxis]"
   ]
  },
  {
   "cell_type": "code",
   "execution_count": 26,
   "metadata": {},
   "outputs": [],
   "source": [
    "h5f1 = h5py.File(os.path.join(os.path.dirname(os.getcwd()), 'data', 'hdf5_datasets', 'DRISHTI_GS.hdf5'), 'a')\n",
    "h5f = h5py.File(os.path.join(os.path.dirname(os.getcwd()), 'data', 'hdf5_datasets', 'DRISHTI_GS_128.hdf5'), 'a')"
   ]
  },
  {
   "cell_type": "code",
   "execution_count": 14,
   "metadata": {},
   "outputs": [
    {
     "name": "stderr",
     "output_type": "stream",
     "text": [
      "<ipython-input-14-53135caef631>:58: TqdmDeprecationWarning: This function will be removed in tqdm==5.0.0\n",
      "Please use `tqdm.notebook.tqdm` instead of `tqdm.tqdm_notebook`\n",
      "  for i in tqdm_notebook(xrange(X.shape[0]), leave = True):\n"
     ]
    },
    {
     "data": {
      "application/vnd.jupyter.widget-view+json": {
       "model_id": "4cf7e7bdc2434e9583dae8647b8aa4c8",
       "version_major": 2,
       "version_minor": 0
      },
      "text/plain": [
       "HBox(children=(HTML(value=''), FloatProgress(value=0.0, max=50.0), HTML(value='')))"
      ]
     },
     "metadata": {},
     "output_type": "display_data"
    },
    {
     "name": "stdout",
     "output_type": "stream",
     "text": [
      "\n"
     ]
    }
   ],
   "source": [
    "\n",
    "\n",
    "X = h5f1[\"DRISHTI-GS/512 px/images\"]\n",
    "d = h5f1[\"DRISHTI-GS/512 px/disc\"]\n",
    "c = h5f1[\"DRISHTI-GS/512 px/cup\"]\n",
    "disc_locations = h5f1['DRISHTI-GS/512 px/disc_locations']\n",
    "resize_to=128\n",
    "\n",
    "train_idx = np.arange(0, 50)\n",
    "test_idx  = np.arange(0, 51)\n",
    "\n",
    "idx = train_idx[:100]\n",
    "\n",
    "img_resized = []\n",
    "cup_resized = []\n",
    "disc_resized = []\n",
    "\n",
    "db = 'DRISHTI-GS'\n",
    "res = 128\n",
    "\n",
    "X_small_ds = h5f.create_dataset(\"{}/{} px/img\".format(db, res), \n",
    "                                (X.shape[0], res, res, 3,), \n",
    "                                chunks=(2, res, res, 3,), \n",
    "                                dtype=X.dtype, compression=\"gzip\")\n",
    "disc_small_ds = h5f.create_dataset(\"{}/{} px/disc\".format(db, res), \n",
    "                                   (X.shape[0], res, res, 1,),  \n",
    "                                   chunks=(2, res, res, 1,), \n",
    "                                   dtype=d.dtype, compression=\"gzip\")\n",
    "cup_small_ds = h5f.create_dataset(\"{}/{} px/cup\".format(db, res), \n",
    "                              (X.shape[0], res, res, 1,),  \n",
    "                              chunks=(2, res, res, 1,), \n",
    "                              dtype=c.dtype, compression=\"gzip\")\n",
    "\n",
    "#for i in tqdm_notebook(xrange(X.shape[0]), leave = True):\n",
    "batch_X = [X[i][disc_locations[i][0]:disc_locations[i][2], disc_locations[i][1]:disc_locations[i][3]] \n",
    "               for i in idx]\n",
    "batch_X = [np.rollaxis(img, 2) for img in batch_X]\n",
    "\n",
    "batch_X = [skimage.transform.resize(np.rollaxis(img, 0, 3), (resize_to, resize_to))\n",
    "           for img in batch_X]\n",
    "batch_X = np.array(batch_X).copy()\n",
    "\n",
    "\n",
    "batch_y = [d[i][disc_locations[i][0]:disc_locations[i][2], disc_locations[i][1]:disc_locations[i][3]] \n",
    "           for i in idx]\n",
    "batch_y = [img[..., 0] for img in batch_y]\n",
    "batch_y = [skimage.transform.resize(img, (resize_to, resize_to))[..., None] for img in batch_y]\n",
    "batch_y = np.array(batch_y).copy()\n",
    "\n",
    "\n",
    "batch_z = [c[i][disc_locations[i][0]:disc_locations[i][2], disc_locations[i][1]:disc_locations[i][3]] \n",
    "           for i in idx]\n",
    "batch_z = [img[..., 0] for img in batch_z]\n",
    "batch_z = [skimage.transform.resize(img, (resize_to, resize_to))[..., None] for img in batch_z]\n",
    "batch_z = np.array(batch_z).copy()\n",
    "\n",
    "for i in tqdm_notebook(xrange(X.shape[0]), leave = True):    \n",
    "    X_small_ds[i] = batch_X[i]\n",
    "    disc_small_ds[i] = batch_z[i]\n",
    "    cup_small_ds[i] = batch_y[i]\n"
   ]
  },
  {
   "cell_type": "code",
   "execution_count": 15,
   "metadata": {},
   "outputs": [
    {
     "data": {
      "image/png": "[encoded data removed]",
      "text/plain": [
       "<Figure size 432x288 with 1 Axes>"
      ]
     },
     "metadata": {
      "needs_background": "light"
     },
     "output_type": "display_data"
    }
   ],
   "source": [
    "plt.imshow(h5f['DRISHTI-GS/128 px/cup'][0])\n",
    "plt.show()"
   ]
  },
  {
   "cell_type": "code",
   "execution_count": 16,
   "metadata": {},
   "outputs": [],
   "source": [
    "#h5f['DRISHTI-GS/128 px/img'] = img_resized\n",
    "#h5f['DRISHTI-GS/128 px/cup'] = cup_resized\n",
    "#h5f['DRISHTI-GS/128 px/disc'] = disc_resized"
   ]
  },
  {
   "cell_type": "code",
   "execution_count": 17,
   "metadata": {},
   "outputs": [
    {
     "name": "stderr",
     "output_type": "stream",
     "text": [
      "<ipython-input-17-4e9ebead497d>:49: TqdmDeprecationWarning: This function will be removed in tqdm==5.0.0\n",
      "Please use `tqdm.notebook.tqdm` instead of `tqdm.tqdm_notebook`\n",
      "  for i in tqdm_notebook(xrange(X.shape[0]), leave = True):\n"
     ]
    },
    {
     "data": {
      "application/vnd.jupyter.widget-view+json": {
       "model_id": "316bc2f3bc9f4933b763242be5ab36ff",
       "version_major": 2,
       "version_minor": 0
      },
      "text/plain": [
       "HBox(children=(HTML(value=''), FloatProgress(value=0.0, max=50.0), HTML(value='')))"
      ]
     },
     "metadata": {},
     "output_type": "display_data"
    },
    {
     "name": "stdout",
     "output_type": "stream",
     "text": [
      "\n"
     ]
    }
   ],
   "source": [
    "disc_locations = h5f1['DRISHTI-GS/512 px/disc_locations_20']\n",
    "X = h5f1[\"DRISHTI-GS/512 px/images\"]\n",
    "\n",
    "idx = train_idx[:100]\n",
    "\n",
    "img_resized = []\n",
    "cup_resized = []\n",
    "disc_resized = []\n",
    "\n",
    "db = 'DRISHTI-GS'\n",
    "res = 128\n",
    "\n",
    "X_small_ds = h5f.create_dataset(\"{}/{} px/img-20\".format(db, res), \n",
    "                                (X.shape[0], res, res, 3,), \n",
    "                                chunks=(2, res, res, 3,), \n",
    "                                dtype=X.dtype, compression=\"gzip\")\n",
    "disc_small_ds = h5f.create_dataset(\"{}/{} px/disc-20\".format(db, res), \n",
    "                                   (X.shape[0], res, res, 1,),  \n",
    "                                   chunks=(2, res, res, 1,), \n",
    "                                   dtype=X.dtype, compression=\"gzip\")\n",
    "cup_small_ds = h5f.create_dataset(\"{}/{} px/cup-20\".format(db, res), \n",
    "                              (X.shape[0], res, res, 1,),  \n",
    "                              chunks=(2, res, res, 1,), \n",
    "                              dtype=X.dtype, compression=\"gzip\")\n",
    "\n",
    "#for i in tqdm_notebook(xrange(X_ds.shape[0]), leave = True):\n",
    "batch_X = [X[i][disc_locations[i][0]:disc_locations[i][2], disc_locations[i][1]:disc_locations[i][3]] \n",
    "               for i in idx]\n",
    "batch_X = [np.rollaxis(img, 2) for img in batch_X]\n",
    "\n",
    "batch_X = [skimage.transform.resize(np.rollaxis(img, 0, 3), (resize_to, resize_to))\n",
    "           for img in batch_X]\n",
    "batch_X = np.array(batch_X).copy()\n",
    "\n",
    "\n",
    "batch_y = [d[i][disc_locations[i][0]:disc_locations[i][2], disc_locations[i][1]:disc_locations[i][3]] \n",
    "           for i in idx]\n",
    "batch_y = [img[..., 0] for img in batch_y]\n",
    "batch_y = [skimage.transform.resize(img, (resize_to, resize_to))[..., None] for img in batch_y]\n",
    "batch_y = np.array(batch_y).copy()\n",
    "\n",
    "\n",
    "batch_z = [c[i][disc_locations[i][0]:disc_locations[i][2], disc_locations[i][1]:disc_locations[i][3]] \n",
    "           for i in idx]\n",
    "batch_z = [img[..., 0] for img in batch_z]\n",
    "batch_z = [skimage.transform.resize(img, (resize_to, resize_to))[..., None] for img in batch_z]\n",
    "batch_z = np.array(batch_z).copy()\n",
    "\n",
    "for i in tqdm_notebook(xrange(X.shape[0]), leave = True):    \n",
    "    X_small_ds[i] = batch_X[i]\n",
    "    disc_small_ds[i] = batch_z[i]\n",
    "    cup_small_ds[i] = batch_y[i]\n",
    "    "
   ]
  },
  {
   "cell_type": "code",
   "execution_count": 33,
   "metadata": {},
   "outputs": [],
   "source": [
    "#h5f['DRISHTI-GS/128 px/img-20'] = img_resized\n",
    "#h5f['DRISHTI-GS/128 px/cup-20'] = cup_resized\n",
    "#h5f['DRISHTI-GS/128 px/disc-20'] = disc_resized"
   ]
  },
  {
   "cell_type": "code",
   "execution_count": 18,
   "metadata": {},
   "outputs": [
    {
     "name": "stderr",
     "output_type": "stream",
     "text": [
      "<ipython-input-18-c3822390df8f>:51: TqdmDeprecationWarning: This function will be removed in tqdm==5.0.0\n",
      "Please use `tqdm.notebook.tqdm` instead of `tqdm.tqdm_notebook`\n",
      "  for i in tqdm_notebook(xrange(X.shape[0]), leave = True):\n"
     ]
    },
    {
     "data": {
      "application/vnd.jupyter.widget-view+json": {
       "model_id": "c40e3868f4b84f98ba0f48f417f2fdbb",
       "version_major": 2,
       "version_minor": 0
      },
      "text/plain": [
       "HBox(children=(HTML(value=''), FloatProgress(value=0.0, max=51.0), HTML(value='')))"
      ]
     },
     "metadata": {},
     "output_type": "display_data"
    },
    {
     "name": "stdout",
     "output_type": "stream",
     "text": [
      "\n"
     ]
    }
   ],
   "source": [
    "\n",
    "X = h5f1[\"DRISHTI-GS-test/512 px/images\"]\n",
    "d = h5f1[\"DRISHTI-GS-test/512 px/disc\"]\n",
    "c = h5f1[\"DRISHTI-GS-test/512 px/cup\"]\n",
    "disc_locations = h5f1['DRISHTI-GS-test/512 px/disc_locations']\n",
    "\n",
    "idx = test_idx[:100]\n",
    "\n",
    "img_resized = []\n",
    "cup_resized = []\n",
    "disc_resized = []\n",
    "\n",
    "db = 'DRISHTI-GS-test'\n",
    "res = 128\n",
    "\n",
    "X_small_ds = h5f.create_dataset(\"{}/{} px/img\".format(db, res), \n",
    "                                (X.shape[0], res, res, 3,), \n",
    "                                chunks=(2, res, res, 3,), \n",
    "                                dtype=X.dtype, compression=\"gzip\")\n",
    "disc_small_ds = h5f.create_dataset(\"{}/{} px/disc\".format(db, res), \n",
    "                                   (X.shape[0], res, res, 1,),  \n",
    "                                   chunks=(2, res, res, 1,), \n",
    "                                   dtype=X.dtype, compression=\"gzip\")\n",
    "cup_small_ds = h5f.create_dataset(\"{}/{} px/cup\".format(db, res), \n",
    "                              (X.shape[0], res, res, 1,),  \n",
    "                              chunks=(2, res, res, 1,), \n",
    "                              dtype=X.dtype, compression=\"gzip\")\n",
    "\n",
    "#for i in tqdm_notebook(xrange(X.shape[0]), leave = True):\n",
    "batch_X = [X[i][disc_locations[i][0]:disc_locations[i][2], disc_locations[i][1]:disc_locations[i][3]] \n",
    "               for i in idx]\n",
    "batch_X = [np.rollaxis(img, 2) for img in batch_X]\n",
    "\n",
    "batch_X = [skimage.transform.resize(np.rollaxis(img, 0, 3), (resize_to, resize_to))\n",
    "           for img in batch_X]\n",
    "batch_X = np.array(batch_X).copy()\n",
    "\n",
    "\n",
    "batch_y = [d[i][disc_locations[i][0]:disc_locations[i][2], disc_locations[i][1]:disc_locations[i][3]] \n",
    "           for i in idx]\n",
    "batch_y = [img[..., 0] for img in batch_y]\n",
    "batch_y = [skimage.transform.resize(img, (resize_to, resize_to))[..., None] for img in batch_y]\n",
    "batch_y = np.array(batch_y).copy()\n",
    "\n",
    "\n",
    "batch_z = [c[i][disc_locations[i][0]:disc_locations[i][2], disc_locations[i][1]:disc_locations[i][3]] \n",
    "           for i in idx]\n",
    "batch_z = [img[..., 0] for img in batch_z]\n",
    "batch_z = [skimage.transform.resize(img, (resize_to, resize_to))[..., None] for img in batch_z]\n",
    "batch_z = np.array(batch_z).copy()\n",
    "\n",
    "for i in tqdm_notebook(xrange(X.shape[0]), leave = True):    \n",
    "    X_small_ds[i] = batch_X[i]\n",
    "    disc_small_ds[i] = batch_z[i]\n",
    "    cup_small_ds[i] = batch_y[i]\n"
   ]
  },
  {
   "cell_type": "code",
   "execution_count": 19,
   "metadata": {},
   "outputs": [],
   "source": [
    "#h5f['DRISHTI-GS-test/128 px/img'] = img_resized\n",
    "#h5f['DRISHTI-GS-test/128 px/cup'] = cup_resized\n",
    "#h5f['DRISHTI-GS-test/128 px/disc'] = disc_resized"
   ]
  },
  {
   "cell_type": "code",
   "execution_count": 21,
   "metadata": {},
   "outputs": [
    {
     "name": "stderr",
     "output_type": "stream",
     "text": [
      "<ipython-input-21-7fa76c1940f7>:49: TqdmDeprecationWarning: This function will be removed in tqdm==5.0.0\n",
      "Please use `tqdm.notebook.tqdm` instead of `tqdm.tqdm_notebook`\n",
      "  for i in tqdm_notebook(xrange(X.shape[0]), leave = True):\n"
     ]
    },
    {
     "data": {
      "application/vnd.jupyter.widget-view+json": {
       "model_id": "67ad7f9ee2564dc8a1519d3214c08c6e",
       "version_major": 2,
       "version_minor": 0
      },
      "text/plain": [
       "HBox(children=(HTML(value=''), FloatProgress(value=0.0, max=51.0), HTML(value='')))"
      ]
     },
     "metadata": {},
     "output_type": "display_data"
    },
    {
     "name": "stdout",
     "output_type": "stream",
     "text": [
      "\n"
     ]
    }
   ],
   "source": [
    "disc_locations = h5f1['DRISHTI-GS-test/512 px/disc_locations_20']\n",
    "X = h5f1[\"DRISHTI-GS-test/512 px/images\"]\n",
    "\n",
    "idx = test_idx[:100]\n",
    "\n",
    "img_resized = []\n",
    "cup_resized = []\n",
    "disc_resized = []\n",
    "\n",
    "db = 'DRISHTI-GS-test'\n",
    "res = 128\n",
    "\n",
    "X_small_ds = h5f.create_dataset(\"{}/{} px/img-20\".format(db, res), \n",
    "                                (X.shape[0], res, res, 3,), \n",
    "                                chunks=(2, res, res, 3,), \n",
    "                                dtype=X.dtype, compression=\"gzip\")\n",
    "disc_small_ds = h5f.create_dataset(\"{}/{} px/disc-20\".format(db, res), \n",
    "                                   (X.shape[0], res, res, 1,),  \n",
    "                                   chunks=(2, res, res, 1,), \n",
    "                                   dtype=X.dtype, compression=\"gzip\")\n",
    "cup_small_ds = h5f.create_dataset(\"{}/{} px/cup-20\".format(db, res), \n",
    "                              (X.shape[0], res, res, 1,),  \n",
    "                              chunks=(2, res, res, 1,), \n",
    "                              dtype=X.dtype, compression=\"gzip\")\n",
    "\n",
    "#for i in tqdm_notebook(xrange(X.shape[0]), leave = True):\n",
    "batch_X = [X[i][disc_locations[i][0]:disc_locations[i][2], disc_locations[i][1]:disc_locations[i][3]] \n",
    "               for i in idx]\n",
    "batch_X = [np.rollaxis(img, 2) for img in batch_X]\n",
    "\n",
    "batch_X = [skimage.transform.resize(np.rollaxis(img, 0, 3), (resize_to, resize_to))\n",
    "           for img in batch_X]\n",
    "batch_X = np.array(batch_X).copy()\n",
    "\n",
    "\n",
    "batch_y = [d[i][disc_locations[i][0]:disc_locations[i][2], disc_locations[i][1]:disc_locations[i][3]] \n",
    "           for i in idx]\n",
    "batch_y = [img[..., 0] for img in batch_y]\n",
    "batch_y = [skimage.transform.resize(img, (resize_to, resize_to))[..., None] for img in batch_y]\n",
    "batch_y = np.array(batch_y).copy()\n",
    "\n",
    "\n",
    "batch_z = [c[i][disc_locations[i][0]:disc_locations[i][2], disc_locations[i][1]:disc_locations[i][3]] \n",
    "           for i in idx]\n",
    "batch_z = [img[..., 0] for img in batch_z]\n",
    "batch_z = [skimage.transform.resize(img, (resize_to, resize_to))[..., None] for img in batch_z]\n",
    "batch_z = np.array(batch_z).copy()\n",
    "\n",
    "for i in tqdm_notebook(xrange(X.shape[0]), leave = True):    \n",
    "    X_small_ds[i] = batch_X[i]\n",
    "    disc_small_ds[i] = batch_z[i]\n",
    "    cup_small_ds[i] = batch_y[i]"
   ]
  },
  {
   "cell_type": "code",
   "execution_count": 22,
   "metadata": {},
   "outputs": [],
   "source": [
    "#h5f['DRISHTI-GS-test/128 px/img-20'] = img_resized\n",
    "#h5f['DRISHTI-GS-test/128 px/cup-20'] = cup_resized\n",
    "#h5f['DRISHTI-GS-test/128 px/disc-20'] = disc_resized"
   ]
  },
  {
   "cell_type": "code",
   "execution_count": 27,
   "metadata": {},
   "outputs": [
    {
     "data": {
      "image/png": "[encoded data removed]",
      "text/plain": [
       "<Figure size 432x288 with 1 Axes>"
      ]
     },
     "metadata": {
      "needs_background": "light"
     },
     "output_type": "display_data"
    },
    {
     "data": {
      "image/png": "[encoded data removed]",
      "text/plain": [
       "<Figure size 432x288 with 1 Axes>"
      ]
     },
     "metadata": {
      "needs_background": "light"
     },
     "output_type": "display_data"
    },
    {
     "data": {
      "image/png": "[encoded data removed]",
      "text/plain": [
       "<Figure size 432x288 with 1 Axes>"
      ]
     },
     "metadata": {
      "needs_background": "light"
     },
     "output_type": "display_data"
    },
    {
     "data": {
      "image/png": "[encoded data removed]",
      "text/plain": [
       "<Figure size 432x288 with 1 Axes>"
      ]
     },
     "metadata": {
      "needs_background": "light"
     },
     "output_type": "display_data"
    }
   ],
   "source": [
    "plt.imshow(h5f['DRISHTI-GS/128 px/cup'][0])\n",
    "plt.show()\n",
    "plt.imshow(h5f['DRISHTI-GS/128 px/cup-20'][0])\n",
    "plt.show()\n",
    "plt.imshow(h5f['DRISHTI-GS-test/128 px/cup'][0])\n",
    "plt.show()\n",
    "plt.imshow(h5f['DRISHTI-GS-test/128 px/cup-20'][0])\n",
    "plt.show()"
   ]
  },
  {
   "cell_type": "code",
   "execution_count": 25,
   "metadata": {},
   "outputs": [],
   "source": [
    "h5f.close()\n",
    "h5f1.close()"
   ]
  },
  {
   "cell_type": "code",
   "execution_count": null,
   "metadata": {},
   "outputs": [],
   "source": []
  },
  {
   "cell_type": "code",
   "execution_count": null,
   "metadata": {},
   "outputs": [],
   "source": []
  },
  {
   "cell_type": "code",
   "execution_count": null,
   "metadata": {},
   "outputs": [],
   "source": [
    "gap = 50\n",
    "standard_res = (512, 512)\n",
    "X_ds = h5f[\"DRISHTI-GS/512 px/images\"]\n",
    "disc_ds = h5f[\"DRISHTI-GS/512 px/disc\"]\n",
    "cup_ds = h5f[\"DRISHTI-GS/512 px/cup\"]\n",
    "\n",
    "disc_locations = np.empty((X_ds.shape[0], 4), dtype=np.int64)\n",
    "\n",
    "img_cropped = []\n",
    "cup_cropped = []\n",
    "disc_cropped = []\n",
    "\n",
    "for i in tqdm_notebook(xrange(X_ds.shape[0]), leave=True):\n",
    "    img = X_ds[i]\n",
    "    disc = disc_ds[i, ..., 0]\n",
    "    cup = cup_ds[i, ..., 0]\n",
    "\n",
    "    labeled = skimage.measure.label(disc)\n",
    "    region_props = skimage.measure.regionprops(labeled)\n",
    "    component = max(region_props, key=attrgetter('area'))    # there should be only 1 component, \n",
    "                                                             # so this is a safety measure\n",
    "    disc_locations[i][0] = max(component.bbox[0] - gap, 0)\n",
    "    disc_locations[i][1] = max(component.bbox[1] - gap, 0)\n",
    "    disc_locations[i][2] = min(component.bbox[2] + gap, img.shape[0] - 1)\n",
    "    disc_locations[i][3] = min(component.bbox[3] + gap, img.shape[1] - 1)\n",
    "    \n",
    "    cup_cur_cropped = cup[disc_locations[i][0]:disc_locations[i][2],\n",
    "                           disc_locations[i][1]:disc_locations[i][3]]\n",
    "    cup_cur_cropped = resize(cup_cur_cropped, standard_res)\n",
    "\n",
    "    img_cur_cropped = img[disc_locations[i][0]:disc_locations[i][2],\n",
    "                           disc_locations[i][1]:disc_locations[i][3]]\n",
    "    img_cur_cropped = resize(img_cur_cropped, standard_res)\n",
    "        \n",
    "    disc_cur_cropped = disc[disc_locations[i][0]:disc_locations[i][2],\n",
    "                           disc_locations[i][1]:disc_locations[i][3]]\n",
    "    disc_cur_cropped = resize(disc_cur_cropped, standard_res)\n",
    "    \n",
    "    img_cropped.append(img_cur_cropped)\n",
    "    cup_cropped.append(cup_cur_cropped)\n",
    "    disc_cropped.append(disc_cur_cropped)\n",
    "\n",
    "h5f['DRISHTI-GS/512 px/disc_locations'] = disc_locations\n",
    "h5f['DRISHTI-GS/512 px/img_cropped'] = img_cropped\n",
    "h5f['DRISHTI-GS/512 px/cup_cropped'] = cup_cropped\n",
    "h5f['DRISHTI-GS/512 px/disc_cropped'] = disc_cropped"
   ]
  },
  {
   "cell_type": "code",
   "execution_count": null,
   "metadata": {},
   "outputs": [],
   "source": [
    "gap = 20\n",
    "disc_locations = np.empty((X_ds.shape[0], 4), dtype=np.int64)\n",
    "\n",
    "img_cropped = []\n",
    "cup_cropped = []\n",
    "disc_cropped = []\n",
    "\n",
    "for i in tqdm_notebook(xrange(X_ds.shape[0]), leave=True):\n",
    "    img = X_ds[i]\n",
    "    disc = disc_ds[i, ..., 0]\n",
    "    cup = cup_ds[i, ..., 0]\n",
    "\n",
    "    labeled = skimage.measure.label(disc)\n",
    "    region_props = skimage.measure.regionprops(labeled)\n",
    "    component = max(region_props, key=attrgetter('area'))    # there should be only 1 component, \n",
    "                                                             # so this is a safety measure\n",
    "    disc_locations[i][0] = max(component.bbox[0] - gap, 0)\n",
    "    disc_locations[i][1] = max(component.bbox[1] - gap, 0)\n",
    "    disc_locations[i][2] = min(component.bbox[2] + gap, img.shape[0] - 1)\n",
    "    disc_locations[i][3] = min(component.bbox[3] + gap, img.shape[1] - 1)\n",
    "    \n",
    "    cup_cur_cropped = cup[disc_locations[i][0]:disc_locations[i][2],\n",
    "                           disc_locations[i][1]:disc_locations[i][3]]\n",
    "    cup_cur_cropped = resize(cup_cur_cropped, standard_res)\n",
    "\n",
    "    img_cur_cropped = img[disc_locations[i][0]:disc_locations[i][2],\n",
    "                           disc_locations[i][1]:disc_locations[i][3]]\n",
    "    img_cur_cropped = resize(img_cur_cropped, standard_res)\n",
    "        \n",
    "    disc_cur_cropped = disc[disc_locations[i][0]:disc_locations[i][2],\n",
    "                           disc_locations[i][1]:disc_locations[i][3]]\n",
    "    disc_cur_cropped = resize(disc_cur_cropped, standard_res)\n",
    "    \n",
    "    img_cropped.append(img_cur_cropped)\n",
    "    cup_cropped.append(cup_cur_cropped)\n",
    "    disc_cropped.append(disc_cur_cropped)\n",
    "\n",
    "h5f['DRISHTI-GS/512 px/disc_locations_20'] = disc_locations\n",
    "h5f['DRISHTI-GS/512 px/img_cropped_20'] = img_cropped\n",
    "h5f['DRISHTI-GS/512 px/cup_cropped_20'] = cup_cropped\n",
    "h5f['DRISHTI-GS/512 px/disc_cropped_20'] = disc_cropped"
   ]
  },
  {
   "cell_type": "code",
   "execution_count": null,
   "metadata": {},
   "outputs": [],
   "source": [
    "plt.imshow(h5f['DRISHTI-GS/512 px/img_cropped_20'][9])\n",
    "plt.show()\n",
    "plt.imshow(h5f['DRISHTI-GS/512 px/cup_cropped_20'][9])\n",
    "plt.show()\n",
    "plt.imshow(h5f['DRISHTI-GS/512 px/disc_cropped_20'][9])\n",
    "plt.show()"
   ]
  },
  {
   "cell_type": "markdown",
   "metadata": {},
   "source": [
    "#### DRISHTI-GS (test)"
   ]
  },
  {
   "cell_type": "code",
   "execution_count": null,
   "metadata": {},
   "outputs": [],
   "source": [
    "X_test, disc_test, cup_test, file_codes_test = extract_DRISHTI_GS_test(os.path.join(os.path.dirname(os.getcwd()), 'data', 'Drishti-GS'))\n",
    "print(len(X_test), X_test[0].shape, len(disc_test), disc_test[0].shape, len(cup_test), cup_test[0].shape, len(file_codes_test))"
   ]
  },
  {
   "cell_type": "code",
   "execution_count": null,
   "metadata": {},
   "outputs": [],
   "source": [
    "db = 'DRISHTI-GS-test'\n",
    "X_ds = np.array(X_test)\n",
    "cup_ds = np.array(cup_test)\n",
    "disc_ds = np.array(disc_test)\n",
    "file_codes_ds = np.array(file_codes_test)\n",
    "\n",
    "for res in resolutions:\n",
    "    print('Copying data for {}, resolution {}'.format(db, res))\n",
    "    X_small_ds = h5f.create_dataset(\"{}/{} px/images\".format(db, res), \n",
    "                                    (X_ds.shape[0], res, res, 3,), \n",
    "                                    chunks=(2, res, res, 3,), \n",
    "                                    dtype=X_ds.dtype, compression=\"gzip\")\n",
    "    disc_small_ds = h5f.create_dataset(\"{}/{} px/disc\".format(db, res), \n",
    "                                   (X_ds.shape[0], res, res, 1,),  \n",
    "                                   chunks=(2, res, res, 1,), \n",
    "                                   dtype=disc_ds.dtype, compression=\"gzip\")\n",
    "    cup_small_ds = h5f.create_dataset(\"{}/{} px/cup\".format(db, res), \n",
    "                                      (X_ds.shape[0], res, res, 1,),  \n",
    "                                      chunks=(2, res, res, 1,), \n",
    "                                      dtype=cup_ds.dtype, compression=\"gzip\")\n",
    "\n",
    "    str_dt = h5py.special_dtype(vlen=str)\n",
    "    file_codes_small_ds = h5f.create_dataset(\"{}/{} px/file_codes\".format(db, res), \n",
    "                                             (X_ds.shape[0],),  \n",
    "                                             chunks=True, \n",
    "                                             dtype=str_dt, compression=\"gzip\")\n",
    "\n",
    "    for i in tqdm_notebook(xrange(X_ds.shape[0]), leave=True):\n",
    "        X_small_ds[i] = resize(X_ds[i],(res, res))\n",
    "        \n",
    "        cur_disc_small = resize(disc_ds[i][..., 0], (res, res))\n",
    "        disc_small_ds[i] = cur_disc_small[..., np.newaxis]  \n",
    "        \n",
    "        cur_cup_small = resize(cup_ds[i][..., 0], (res, res))\n",
    "        cup_small_ds[i] = cur_cup_small[..., np.newaxis]\n",
    "        \n",
    "    file_codes_small_ds[:] = file_codes_ds[:]  "
   ]
  },
  {
   "cell_type": "code",
   "execution_count": null,
   "metadata": {},
   "outputs": [],
   "source": [
    "X_ds = h5f[\"DRISHTI-GS-test/512 px/images\"]\n",
    "disc_ds = h5f[\"DRISHTI-GS-test/512 px/disc\"]\n",
    "cup_ds = h5f[\"DRISHTI-GS-test/512 px/cup\"]\n",
    "\n",
    "gap = 50\n",
    "standard_res = (512, 512)\n",
    "\n",
    "disc_locations = np.empty((X_ds.shape[0], 4), dtype=np.int64)\n",
    "\n",
    "img_cropped = []\n",
    "cup_cropped = []\n",
    "disc_cropped = []\n",
    "\n",
    "for i in tqdm_notebook(xrange(X_ds.shape[0]), leave=True):\n",
    "    img = X_ds[i]\n",
    "    disc = disc_ds[i, ..., 0]\n",
    "    cup = cup_ds[i, ..., 0]\n",
    "\n",
    "    labeled = skimage.measure.label(disc)\n",
    "    region_props = skimage.measure.regionprops(labeled)\n",
    "    component = max(region_props, key=attrgetter('area'))    # there should be only 1 component, \n",
    "                                                             # so this is a safety measure\n",
    "    disc_locations[i][0] = max(component.bbox[0] - gap, 0)\n",
    "    disc_locations[i][1] = max(component.bbox[1] - gap, 0)\n",
    "    disc_locations[i][2] = min(component.bbox[2] + gap, img.shape[0] - 1)\n",
    "    disc_locations[i][3] = min(component.bbox[3] + gap, img.shape[1] - 1)\n",
    "    \n",
    "    cup_cur_cropped = cup[disc_locations[i][0]:disc_locations[i][2],\n",
    "                           disc_locations[i][1]:disc_locations[i][3]]\n",
    "    cup_cur_cropped = resize(cup_cur_cropped, standard_res)\n",
    "\n",
    "    img_cur_cropped = img[disc_locations[i][0]:disc_locations[i][2],\n",
    "                           disc_locations[i][1]:disc_locations[i][3]]\n",
    "    img_cur_cropped = resize(img_cur_cropped, standard_res)\n",
    "        \n",
    "    disc_cur_cropped = disc[disc_locations[i][0]:disc_locations[i][2],\n",
    "                           disc_locations[i][1]:disc_locations[i][3]]\n",
    "    disc_cur_cropped = resize(disc_cur_cropped, standard_res)\n",
    "    \n",
    "    img_cropped.append(img_cur_cropped)\n",
    "    cup_cropped.append(cup_cur_cropped)\n",
    "    disc_cropped.append(disc_cur_cropped)\n",
    "\n",
    "h5f['DRISHTI-GS-test/512 px/disc_locations'] = disc_locations\n",
    "h5f['DRISHTI-GS-test/512 px/img_cropped'] = img_cropped\n",
    "h5f['DRISHTI-GS-test/512 px/cup_cropped'] = cup_cropped\n",
    "h5f['DRISHTI-GS-test/512 px/disc_cropped'] = disc_cropped"
   ]
  },
  {
   "cell_type": "code",
   "execution_count": null,
   "metadata": {},
   "outputs": [],
   "source": [
    "X_ds = h5f[\"DRISHTI-GS-test/512 px/images\"]\n",
    "disc_ds = h5f[\"DRISHTI-GS-test/512 px/disc\"]\n",
    "cup_ds = h5f[\"DRISHTI-GS-test/512 px/cup\"]\n",
    "\n",
    "gap = 20\n",
    "standard_res = (512, 512)\n",
    "\n",
    "disc_locations = np.empty((X_ds.shape[0], 4), dtype=np.int64)\n",
    "\n",
    "img_cropped = []\n",
    "cup_cropped = []\n",
    "disc_cropped = []\n",
    "\n",
    "for i in tqdm_notebook(xrange(X_ds.shape[0]), leave=True):\n",
    "    img = X_ds[i]\n",
    "    disc = disc_ds[i, ..., 0]\n",
    "    cup = cup_ds[i, ..., 0]\n",
    "\n",
    "    labeled = skimage.measure.label(disc)\n",
    "    region_props = skimage.measure.regionprops(labeled)\n",
    "    component = max(region_props, key=attrgetter('area'))    # there should be only 1 component, \n",
    "                                                             # so this is a safety measure\n",
    "    disc_locations[i][0] = max(component.bbox[0] - gap, 0)\n",
    "    disc_locations[i][1] = max(component.bbox[1] - gap, 0)\n",
    "    disc_locations[i][2] = min(component.bbox[2] + gap, img.shape[0] - 1)\n",
    "    disc_locations[i][3] = min(component.bbox[3] + gap, img.shape[1] - 1)\n",
    "    \n",
    "    cup_cur_cropped = cup[disc_locations[i][0]:disc_locations[i][2],\n",
    "                           disc_locations[i][1]:disc_locations[i][3]]\n",
    "    cup_cur_cropped = resize(cup_cur_cropped, standard_res)\n",
    "\n",
    "    img_cur_cropped = img[disc_locations[i][0]:disc_locations[i][2],\n",
    "                           disc_locations[i][1]:disc_locations[i][3]]\n",
    "    img_cur_cropped = resize(img_cur_cropped, standard_res)\n",
    "        \n",
    "    disc_cur_cropped = disc[disc_locations[i][0]:disc_locations[i][2],\n",
    "                           disc_locations[i][1]:disc_locations[i][3]]\n",
    "    disc_cur_cropped = resize(disc_cur_cropped, standard_res)\n",
    "    \n",
    "    img_cropped.append(img_cur_cropped)\n",
    "    cup_cropped.append(cup_cur_cropped)\n",
    "    disc_cropped.append(disc_cur_cropped)\n",
    "\n",
    "h5f['DRISHTI-GS-test/512 px/disc_locations_20'] = disc_locations\n",
    "h5f['DRISHTI-GS-test/512 px/img_cropped_20'] = img_cropped\n",
    "h5f['DRISHTI-GS-test/512 px/cup_cropped_20'] = cup_cropped\n",
    "h5f['DRISHTI-GS-test/512 px/disc_cropped_20'] = disc_cropped"
   ]
  },
  {
   "cell_type": "code",
   "execution_count": null,
   "metadata": {},
   "outputs": [],
   "source": [
    "plt.imshow(h5f['DRISHTI-GS-test/512 px/img_cropped_20'][9])\n",
    "plt.show()\n",
    "plt.imshow(h5f['DRISHTI-GS-test/512 px/cup_cropped_20'][9])\n",
    "plt.show()\n",
    "plt.imshow(h5f['DRISHTI-GS-test/512 px/disc_cropped_20'][9])\n",
    "plt.show()"
   ]
  },
  {
   "cell_type": "code",
   "execution_count": 51,
   "metadata": {},
   "outputs": [],
   "source": [
    "h5f.close()\n",
    "h5f1.close()"
   ]
  },
  {
   "cell_type": "code",
   "execution_count": null,
   "metadata": {},
   "outputs": [],
   "source": []
  }
 ],
 "metadata": {
  "kernelspec": {
   "display_name": "Python 3",
   "language": "python",
   "name": "python3"
  },
  "language_info": {
   "codemirror_mode": {
    "name": "ipython",
    "version": 3
   },
   "file_extension": ".py",
   "mimetype": "text/x-python",
   "name": "python",
   "nbconvert_exporter": "python",
   "pygments_lexer": "ipython3",
   "version": "3.9.0"
  },
  "widgets": {
   "state": {
    "082df2d6c9d04122bbc13e511ced546b": {
     "views": [
      {
       "cell_index": 64
      }
     ]
    },
    "1076bc62bc6449c99f6046e949e66797": {
     "views": [
      {
       "cell_index": 64
      }
     ]
    },
    "358b9ed5aecb499f9de7304bd4314691": {
     "views": [
      {
       "cell_index": 64
      }
     ]
    },
    "45aef25e0edd4c8d87c7ea3915265b7a": {
     "views": [
      {
       "cell_index": 63
      }
     ]
    },
    "810a9b2badf34cd9a7555a13e628e84a": {
     "views": [
      {
       "cell_index": 63
      }
     ]
    },
    "949491e0c3ac4d1d9b22d853c71c843f": {
     "views": [
      {
       "cell_index": 63
      }
     ]
    }
   },
   "version": "1.2.0"
  }
 },
 "nbformat": 4,
 "nbformat_minor": 1
}
