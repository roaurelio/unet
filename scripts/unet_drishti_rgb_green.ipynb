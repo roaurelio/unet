{
 "cells": [
  {
   "cell_type": "markdown",
   "metadata": {},
   "source": [
    "### Training of modified U-Net for Optic Disc on DRISHTI-GS database (cross-validation fold #0)."
   ]
  },
  {
   "cell_type": "code",
   "execution_count": 7,
   "metadata": {},
   "outputs": [
    {
     "name": "stdout",
     "output_type": "stream",
     "text": [
      "The autoreload extension is already loaded. To reload it, use:\n",
      "  %reload_ext autoreload\n",
      "Keras version: 2.5.0\n",
      "TensorFlow version: 2.5.0\n"
     ]
    }
   ],
   "source": [
    "%load_ext autoreload\n",
    "%autoreload 2\n",
    "\n",
    "import tensorflow as tf\n",
    "import matplotlib.pyplot as plt\n",
    "import h5py\n",
    "\n",
    "from model import *\n",
    "from process_images import *\n",
    "from process_result import *\n",
    "\n",
    "print('Keras version:', keras.__version__)\n",
    "print('TensorFlow version:', tf.__version__)"
   ]
  },
  {
   "cell_type": "markdown",
   "metadata": {},
   "source": [
    "#### DRISHTI-GS\n",
    "\n",
    "Carrega imagens de treino e teste com tamanho 512px."
   ]
  },
  {
   "cell_type": "code",
   "execution_count": 8,
   "metadata": {},
   "outputs": [],
   "source": [
    "h5f = h5py.File(os.path.join(os.path.dirname(os.getcwd()), 'data', 'hdf5_datasets', 'DRISHTI_GS.hdf5'), 'r')\n",
    "suf = '_70'\n",
    "#-----------------------------------------------------------------------------------------------------------#\n",
    "img_test = h5f['DRISHTI-GS-test/512 px/img_cropped' + suf]\n",
    "cup_test = h5f['DRISHTI-GS-test/512 px/cup_cropped' + suf]\n",
    "disc_test = h5f['DRISHTI-GS-test/512 px/disc_cropped' + suf]\n",
    "\n",
    "img_train = h5f['DRISHTI-GS/512 px/img_cropped' + suf]\n",
    "cup_train = h5f['DRISHTI-GS/512 px/cup_cropped' + suf]\n",
    "disc_train = h5f['DRISHTI-GS/512 px/disc_cropped' + suf]"
   ]
  },
  {
   "cell_type": "code",
   "execution_count": 9,
   "metadata": {},
   "outputs": [
    {
     "data": {
      "text/plain": [
       "50"
      ]
     },
     "execution_count": 9,
     "metadata": {},
     "output_type": "execute_result"
    }
   ],
   "source": [
    "green_channel_train = get_color_channel(1, img_train)\n",
    "len(green_channel_train)"
   ]
  },
  {
   "cell_type": "code",
   "execution_count": 10,
   "metadata": {},
   "outputs": [
    {
     "data": {
      "text/plain": [
       "51"
      ]
     },
     "execution_count": 10,
     "metadata": {},
     "output_type": "execute_result"
    }
   ],
   "source": [
    "green_channel_test = get_color_channel(1, img_test)\n",
    "len(green_channel_test)"
   ]
  },
  {
   "cell_type": "code",
   "execution_count": 11,
   "metadata": {},
   "outputs": [],
   "source": [
    "img_size = IMG_SIZE\n",
    "epochs = NUM_EPOCHS\n",
    "spe = SPE\n",
    "arq_name = 'drishti_rgb_green'\n",
    "prefix_results = 'rgb_green'\n",
    "folder_name = root_path(arq_name)\n",
    "\n",
    "arch_name_cup = \"Cup, log_dice loss\"\n",
    "arch_name_disc = \"Disc, log_dice loss\""
   ]
  },
  {
   "cell_type": "code",
   "execution_count": null,
   "metadata": {},
   "outputs": [],
   "source": [
    "X_test, Y_test = next(data_generator(green_channel_test, cup_test, img_size, train_or_test='test', batch_size=100, stationary=True))\n",
    "\n",
    "weights_folder = os.path.join(folder_name, 'models_weights', '{},{}'.format(datetime.now().strftime('%d.%m,%H-%M'), arch_name_cup))\n",
    "\n",
    "model = create_compile_model(img_size, 7e-4)\n",
    "history_cup = train_cup(green_channel_train, \n",
    "                    cup_train, \n",
    "                    'cup_'+ prefix_results, \n",
    "                    model, epochs, X_test, Y_test, img_size, spe, weights_folder)"
   ]
  },
  {
   "cell_type": "code",
   "execution_count": null,
   "metadata": {},
   "outputs": [],
   "source": [
    "pred_iou, pred_dice, pred_cup = predict(green_channel_test, X_test, Y_test, model, img_size)\n",
    "save_iou_dice(np.mean(pred_iou), np.mean(pred_dice), folder_name, prefix_results + '_mean_iou_dice_cup.csv')\n",
    "save_predict_images(folder_name, 'cups', test_idx, pred_cup)"
   ]
  },
  {
   "cell_type": "code",
   "execution_count": null,
   "metadata": {},
   "outputs": [],
   "source": [
    "X_test, Z_test = next(data_generator(green_channel_test, disc_test, img_size, train_or_test='test', batch_size=100, stationary=True))\n",
    "model_disc = create_compile_model(img_size, 1e-3)\n",
    "weights_folder = os.path.join(folder_name, 'models_weights', '{},{}'.format(datetime.now().strftime('%d.%m,%H-%M'), arch_name_disc))\n",
    "\n",
    "history_disc = train_disc(green_channel_train, \n",
    "                     disc_train, \n",
    "                     'disc_'+ prefix_results, \n",
    "                     model_disc, epochs, X_test, Z_test, img_size, spe, weights_folder)"
   ]
  },
  {
   "cell_type": "code",
   "execution_count": null,
   "metadata": {},
   "outputs": [],
   "source": [
    "pred_iou, pred_dice, pred_disc = predict(green_channel_test, X_test, Z_test, model_disc, img_size)\n",
    "save_iou_dice(np.mean(pred_iou), np.mean(pred_dice), folder_name, prefix_results + '_mean_iou_dice_disc.csv')\n",
    "save_predict_images(folder_name, 'discs', test_idx, pred_disc)"
   ]
  },
  {
   "cell_type": "code",
   "execution_count": null,
   "metadata": {},
   "outputs": [],
   "source": [
    "plot_results(history_cup, epochs, folder_name, arq_name + '_cup')"
   ]
  },
  {
   "cell_type": "code",
   "execution_count": null,
   "metadata": {},
   "outputs": [],
   "source": [
    "plot_results(history_disc, epochs, folder_name, arq_name + '_disc')"
   ]
  },
  {
   "cell_type": "code",
   "execution_count": null,
   "metadata": {},
   "outputs": [],
   "source": [
    "df, diametros = create_table_result(pred_cup, pred_disc, test_idx, folder_name, prefix_results)"
   ]
  },
  {
   "cell_type": "code",
   "execution_count": null,
   "metadata": {},
   "outputs": [],
   "source": [
    "print(df)"
   ]
  },
  {
   "cell_type": "code",
   "execution_count": null,
   "metadata": {},
   "outputs": [],
   "source": [
    "print(diametros)"
   ]
  }
 ],
 "metadata": {
  "kernelspec": {
   "display_name": "Python 3",
   "language": "python",
   "name": "python3"
  },
  "language_info": {
   "codemirror_mode": {
    "name": "ipython",
    "version": 3
   },
   "file_extension": ".py",
   "mimetype": "text/x-python",
   "name": "python",
   "nbconvert_exporter": "python",
   "pygments_lexer": "ipython3",
   "version": "3.9.0"
  }
 },
 "nbformat": 4,
 "nbformat_minor": 4
}
