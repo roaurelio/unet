{
 "cells": [
  {
   "cell_type": "markdown",
   "metadata": {},
   "source": [
    "### Training of modified U-Net for Optic Disc on DRISHTI-GS database (cross-validation fold #0)."
   ]
  },
  {
   "cell_type": "code",
   "execution_count": null,
   "metadata": {},
   "outputs": [],
   "source": [
    "%load_ext autoreload\n",
    "%autoreload 2\n",
    "\n",
    "import tensorflow as tf\n",
    "import matplotlib.pyplot as plt\n",
    "import h5py\n",
    "\n",
    "from model import *\n",
    "from process_images import *\n",
    "from process_result import *\n",
    "\n",
    "print('Keras version:', keras.__version__)\n",
    "print('TensorFlow version:', tf.__version__)"
   ]
  },
  {
   "cell_type": "markdown",
   "metadata": {},
   "source": [
    "#### DRISHTI-GS\n",
    "\n",
    "Accessing data, preparing train/validation sets division:"
   ]
  },
  {
   "cell_type": "code",
   "execution_count": null,
   "metadata": {},
   "outputs": [],
   "source": [
    "h5f = h5py.File(os.path.join(os.path.dirname(os.getcwd()), 'data', 'hdf5_datasets', 'DRISHTI_GS.hdf5'), 'r')\n",
    "suf = '_20'\n",
    "#-----------------------------------------------------------------------------------------------------------#\n",
    "img_test = h5f['DRISHTI-GS-test/512 px/img_cropped' + suf]\n",
    "cup_test = h5f['DRISHTI-GS-test/512 px/cup_cropped' + suf]\n",
    "disc_test = h5f['DRISHTI-GS-test/512 px/disc_cropped' + suf]\n",
    "\n",
    "img_train = h5f['DRISHTI-GS/512 px/img_cropped' + suf]\n",
    "cup_train = h5f['DRISHTI-GS/512 px/cup_cropped' + suf]\n",
    "disc_train = h5f['DRISHTI-GS/512 px/disc_cropped' + suf]"
   ]
  },
  {
   "cell_type": "markdown",
   "metadata": {},
   "source": [
    "### Train images"
   ]
  },
  {
   "cell_type": "code",
   "execution_count": null,
   "metadata": {},
   "outputs": [],
   "source": [
    "train_images, train_cups, train_discs = create_all_color_list(img_train, cup_train, disc_train)"
   ]
  },
  {
   "cell_type": "code",
   "execution_count": null,
   "metadata": {},
   "outputs": [],
   "source": [
    "img_size = IMG_SIZE\n",
    "epochs = NUM_EPOCHS\n",
    "spe = SPE\n",
    "arq_name = 'drishti_all_colors'\n",
    "prefix_results = 'all_colors'\n",
    "folder_name = root_path(arq_name)\n",
    "\n",
    "arch_name_cup = \"Cup, log_dice loss\"\n",
    "arch_name_disc = \"Disc, log_dice loss\""
   ]
  },
  {
   "cell_type": "code",
   "execution_count": null,
   "metadata": {},
   "outputs": [],
   "source": [
    "X_test, Y_test = next(data_generator(img_test, cup_test, img_size, train_or_test='test', batch_size=100, stationary=True))\n",
    "\n",
    "weights_folder = os.path.join(folder_name, 'models_weights', '{},{}'.format(datetime.now().strftime('%d.%m,%H-%M'), arch_name_cup))\n",
    "\n",
    "model = create_compile_model(img_size, 7e-4)\n",
    "history_cup = train_cup(train_images, \n",
    "                    train_cups, \n",
    "                    'cup_'+ prefix_results, \n",
    "                    model, epochs, X_test, Y_test, img_size, spe, weights_folder)"
   ]
  },
  {
   "cell_type": "code",
   "execution_count": null,
   "metadata": {},
   "outputs": [],
   "source": [
    "pred_iou, pred_dice, pred_cup = predict(img_test, X_test, Y_test, model, img_size)\n",
    "save_iou_dice(np.mean(pred_iou), np.mean(pred_dice), folder_name, prefix_results + '_mean_iou_dice_cup.csv')\n",
    "save_predict_images(folder_name, 'cups', test_idx, pred_cup)"
   ]
  },
  {
   "cell_type": "code",
   "execution_count": null,
   "metadata": {},
   "outputs": [],
   "source": [
    "X_test, Z_test = next(data_generator(img_test, disc_test, img_size, train_or_test='test', batch_size=100, stationary=True))\n",
    "model_disc = create_compile_model(img_size, 1e-3)\n",
    "weights_folder = os.path.join(folder_name, 'models_weights', '{},{}'.format(datetime.now().strftime('%d.%m,%H-%M'), arch_name_disc))\n",
    "\n",
    "history_disc = train_disc(train_images, \n",
    "                     train_discs, \n",
    "                     'disc_'+ prefix_results, \n",
    "                     model_disc, epochs, X_test, Z_test, img_size, spe, weights_folder)"
   ]
  },
  {
   "cell_type": "code",
   "execution_count": null,
   "metadata": {},
   "outputs": [],
   "source": [
    "pred_iou, pred_dice, pred_disc = predict(img_test, X_test, Z_test, model_disc, img_size)\n",
    "save_iou_dice(np.mean(pred_iou), np.mean(pred_dice), folder_name, prefix_results + '_mean_iou_dice_disc.csv')\n",
    "save_predict_images(folder_name, 'discs', test_idx, pred_disc)"
   ]
  },
  {
   "cell_type": "code",
   "execution_count": null,
   "metadata": {},
   "outputs": [],
   "source": [
    "plot_results(history_cup, epochs, folder_name, arq_name + '_cup')"
   ]
  },
  {
   "cell_type": "code",
   "execution_count": null,
   "metadata": {},
   "outputs": [],
   "source": [
    "plot_results(history_disc, epochs, folder_name, arq_name + '_disc')"
   ]
  },
  {
   "cell_type": "code",
   "execution_count": null,
   "metadata": {},
   "outputs": [],
   "source": [
    "df, diametros = create_table_result(pred_cup, pred_disc, test_idx, folder_name, prefix_results)"
   ]
  },
  {
   "cell_type": "code",
   "execution_count": null,
   "metadata": {},
   "outputs": [],
   "source": [
    "print(disc)"
   ]
  },
  {
   "cell_type": "code",
   "execution_count": null,
   "metadata": {},
   "outputs": [],
   "source": [
    "print(diametros)"
   ]
  }
 ],
 "metadata": {
  "kernelspec": {
   "display_name": "Python 3",
   "language": "python",
   "name": "python3"
  },
  "language_info": {
   "codemirror_mode": {
    "name": "ipython",
    "version": 3
   },
   "file_extension": ".py",
   "mimetype": "text/x-python",
   "name": "python",
   "nbconvert_exporter": "python",
   "pygments_lexer": "ipython3",
   "version": "3.9.0"
  }
 },
 "nbformat": 4,
 "nbformat_minor": 4
}
