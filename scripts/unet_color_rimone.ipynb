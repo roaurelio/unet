{
 "cells": [
  {
   "cell_type": "markdown",
   "metadata": {},
   "source": [
    "### Training of modified U-Net for Optic Disc on RIM-ONE v3 database (cross-validation fold #0)."
   ]
  },
  {
   "cell_type": "code",
   "execution_count": null,
   "metadata": {},
   "outputs": [],
   "source": [
    "%load_ext autoreload\n",
    "%autoreload 2\n",
    "\n",
    "import tensorflow as tf\n",
    "import matplotlib.pyplot as plt\n",
    "\n",
    "from model_rimone import *\n",
    "from process_images_rimone import *\n",
    "from process_result import *\n",
    "\n",
    "print('Keras version:', keras.__version__)\n",
    "print('TensorFlow version:', tf.__version__)"
   ]
  },
  {
   "cell_type": "code",
   "execution_count": null,
   "metadata": {},
   "outputs": [],
   "source": [
    "images, cups = get_images()"
   ]
  },
  {
   "cell_type": "code",
   "execution_count": null,
   "metadata": {},
   "outputs": [],
   "source": [
    "gen = data_generator(images, cups, 128, 'train', batch_size=1)\n",
    "batch = next(gen)\n",
    "batch[0].shape"
   ]
  },
  {
   "cell_type": "code",
   "execution_count": null,
   "metadata": {},
   "outputs": [],
   "source": [
    "fig = plt.imshow(batch[0][0])\n",
    "plt.show()\n",
    "plt.imshow(batch[1][0]); plt.show()"
   ]
  },
  {
   "cell_type": "code",
   "execution_count": null,
   "metadata": {},
   "outputs": [],
   "source": [
    "X_valid, Y_valid = next(data_generator(images, cups, train_or_test='test', batch_size=100, stationary=True))\n",
    "plt.imshow(X_valid[20]); plt.show()\n",
    "plt.imshow(Y_valid[20]); plt.show()\n",
    "print(X_valid.shape, Y_valid.shape)"
   ]
  },
  {
   "cell_type": "code",
   "execution_count": null,
   "metadata": {},
   "outputs": [],
   "source": [
    "epochs = NUM_EPOCHS\n",
    "spe = SPE\n",
    "img_size = IMG_SIZE\n",
    "arq_name = 'lr_7_e_4_gap_70'\n",
    "\n",
    "model = create_compile_model(img_size, 3e-4)\n",
    "history_cup = train_cup(images, \n",
    "                     cups, \n",
    "                     'cup_color_rimone', \n",
    "                     model, epochs, X_valid, Y_valid, img_size, spe)"
   ]
  },
  {
   "cell_type": "code",
   "execution_count": null,
   "metadata": {},
   "outputs": [],
   "source": [
    "pred_iou, pred_dice, pred_cup = predict(images, X_valid, Y_valid, model, img_size)"
   ]
  },
  {
   "cell_type": "code",
   "execution_count": null,
   "metadata": {},
   "outputs": [],
   "source": [
    "folder_name = root_path(arq_name)"
   ]
  },
  {
   "cell_type": "code",
   "execution_count": null,
   "metadata": {},
   "outputs": [],
   "source": [
    "print(np.mean(pred_iou))\n",
    "print(np.mean(pred_dice))\n",
    "save_iou_dice(np.mean(pred_iou), np.mean(pred_dice), folder_name, 'rgb_color_mean_iou_dice_cup.csv')"
   ]
  },
  {
   "cell_type": "code",
   "execution_count": null,
   "metadata": {},
   "outputs": [],
   "source": [
    "images, discs = get_images_disc()\n",
    "\n",
    "X_valid, Z_valid = next(data_generator(images, discs, train_or_test='test', batch_size=100, stationary=True))\n",
    "plt.imshow(X_valid[20]); plt.show()\n",
    "plt.imshow(Z_valid[20]); plt.show()\n",
    "print(X_valid.shape, Z_valid.shape)"
   ]
  },
  {
   "cell_type": "code",
   "execution_count": null,
   "metadata": {},
   "outputs": [],
   "source": [
    "model_disc = create_compile_model(img_size, 1e-3)\n",
    "history_disc = train_disc(images, \n",
    "                     discs, \n",
    "                     'disc_color_rimone', \n",
    "                     model_disc, epochs, X_valid, Z_valid, img_size, spe)"
   ]
  },
  {
   "cell_type": "code",
   "execution_count": null,
   "metadata": {},
   "outputs": [],
   "source": [
    "pred_iou, pred_dice, pred_disc = predict(images, X_valid, Z_valid, model_disc, img_size)"
   ]
  },
  {
   "cell_type": "code",
   "execution_count": null,
   "metadata": {},
   "outputs": [],
   "source": [
    "print(np.mean(pred_iou))\n",
    "print(np.mean(pred_dice))\n",
    "save_iou_dice(np.mean(pred_iou), np.mean(pred_dice), folder_name, 'rgb_color_mean_iou_dice_disc.csv')"
   ]
  },
  {
   "cell_type": "code",
   "execution_count": null,
   "metadata": {},
   "outputs": [],
   "source": [
    "plot_results(history_cup, epochs, folder_name, arq_name+'_cup')"
   ]
  },
  {
   "cell_type": "code",
   "execution_count": null,
   "metadata": {},
   "outputs": [],
   "source": [
    "plot_results(history_disc, epochs, folder_name, arq_name+'_disc')"
   ]
  },
  {
   "cell_type": "code",
   "execution_count": null,
   "metadata": {},
   "outputs": [],
   "source": [
    "df, diametros = create_table_result_rimone(pred_cup, pred_disc, test_idx, folder_name, 'rgb_color') "
   ]
  },
  {
   "cell_type": "code",
   "execution_count": null,
   "metadata": {},
   "outputs": [],
   "source": [
    "print(df)"
   ]
  },
  {
   "cell_type": "code",
   "execution_count": null,
   "metadata": {},
   "outputs": [],
   "source": [
    "print(diametros)"
   ]
  }
 ],
 "metadata": {
  "kernelspec": {
   "display_name": "Python 3",
   "language": "python",
   "name": "python3"
  },
  "language_info": {
   "codemirror_mode": {
    "name": "ipython",
    "version": 3
   },
   "file_extension": ".py",
   "mimetype": "text/x-python",
   "name": "python",
   "nbconvert_exporter": "python",
   "pygments_lexer": "ipython3",
   "version": "3.9.0"
  }
 },
 "nbformat": 4,
 "nbformat_minor": 4
}
