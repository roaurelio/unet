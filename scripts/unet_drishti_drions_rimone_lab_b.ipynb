{
 "cells": [
  {
   "cell_type": "markdown",
   "metadata": {},
   "source": [
    "### Training of modified U-Net for Optic Disc on RIM-ONE v3 database (cross-validation fold #0)."
   ]
  },
  {
   "cell_type": "code",
   "execution_count": null,
   "metadata": {},
   "outputs": [],
   "source": [
    "%load_ext autoreload\n",
    "%autoreload 2\n",
    "\n",
    "import tensorflow as tf\n",
    "import matplotlib.pyplot as plt\n",
    "\n",
    "from model_rimone import *\n",
    "from process_images_rimone import *\n",
    "from process_result import *\n",
    "\n",
    "import h5py\n",
    "import os\n",
    "\n",
    "print('Keras version:', keras.__version__)\n",
    "print('TensorFlow version:', tf.__version__)"
   ]
  },
  {
   "cell_type": "code",
   "execution_count": null,
   "metadata": {},
   "outputs": [],
   "source": [
    "suf = '_gap_20'\n",
    "epochs = NUM_EPOCHS\n",
    "spe = SPE\n",
    "img_size = IMG_SIZE\n",
    "arq_name = 'drishti_rim_one_drions_lab_b'\n",
    "lr_cup = 7e-4\n",
    "prefix_results = 'lab_b'\n",
    "\n",
    "arch_name_cup = \"Cup, log_dice loss\"\n",
    "arch_name_disc = \"Disc, log_dice loss\""
   ]
  },
  {
   "cell_type": "code",
   "execution_count": null,
   "metadata": {},
   "outputs": [],
   "source": [
    "rim_one_images, rim_one_cups, rim_one_discs, rim_one_labels = get_images_and_labels(suf)"
   ]
  },
  {
   "cell_type": "code",
   "execution_count": null,
   "metadata": {},
   "outputs": [],
   "source": [
    "h5f = h5py.File(os.path.join(os.path.dirname(os.getcwd()), 'data', 'hdf5_datasets', 'DRISHTI_GS.hdf5'), 'r')\n",
    "suf = '_20'\n",
    "#-----------------------------------------------------------------------------------------------------------#\n",
    "drishti_img_test =  list(h5f['DRISHTI-GS-test/512 px/img_cropped' + suf])\n",
    "drishti_cup_test =  list(h5f['DRISHTI-GS-test/512 px/cup_cropped' + suf])\n",
    "drishti_disc_test =  list(h5f['DRISHTI-GS-test/512 px/disc_cropped' + suf])\n",
    "\n",
    "drishti_img_train =  list(h5f['DRISHTI-GS/512 px/img_cropped' + suf])\n",
    "drishti_cup_train =  list(h5f['DRISHTI-GS/512 px/cup_cropped' + suf])\n",
    "drishti_disc_train = list(h5f['DRISHTI-GS/512 px/disc_cropped' + suf])"
   ]
  },
  {
   "cell_type": "code",
   "execution_count": null,
   "metadata": {},
   "outputs": [],
   "source": [
    "h5f = h5py.File(os.path.join(os.path.dirname(os.getcwd()), 'data', 'hdf5_datasets', 'DRIONS-DB.hdf5'), 'r')\n",
    "drions_img = list(h5f['DRIONS-DB/512 px/img_cropped_gap_20'])\n",
    "drions_disc = list(h5f['DRIONS-DB/512 px/disc_cropped_gap_20'])"
   ]
  },
  {
   "cell_type": "code",
   "execution_count": null,
   "metadata": {},
   "outputs": [],
   "source": [
    "num_splits = 5\n",
    "train_idx_cv, test_idx_cv = [], []\n",
    "for _train_idx, _test_idx in KFold(n_splits=num_splits, random_state=1, shuffle=True).split(rim_one_images):\n",
    "    train_idx_cv.append(_train_idx)\n",
    "    test_idx_cv.append(_test_idx)\n",
    "    \n",
    "train_idx = train_idx_cv[0]\n",
    "test_idx = test_idx_cv[0]\n",
    "print(len(train_idx))\n",
    "print(len(test_idx))"
   ]
  },
  {
   "cell_type": "code",
   "execution_count": null,
   "metadata": {},
   "outputs": [],
   "source": [
    "for i in range(len(drishti_img_train)):\n",
    "    drishti_cup_train[i] = drishti_cup_train[i][..., None]\n",
    "    drishti_disc_train[i] = drishti_disc_train[i][..., None]\n",
    "\n",
    "for i in range(len(drishti_img_test)):\n",
    "    drishti_cup_test[i] = drishti_cup_test[i][..., None]\n",
    "    drishti_disc_test[i] = drishti_disc_test[i][..., None]\n"
   ]
  },
  {
   "cell_type": "code",
   "execution_count": null,
   "metadata": {},
   "outputs": [],
   "source": [
    "def join_images(train_idx, images, cups, discs):\n",
    "    for idx in range(len(train_idx)):\n",
    "        i = train_idx[idx]\n",
    "        \n",
    "        images.append(rim_one_images[i])\n",
    "        cups.append(rim_one_cups[i])\n",
    "        discs.append(rim_one_discs[i])\n",
    "        \n",
    "def create_labels_list(test_idx, origin_labels):\n",
    "    labels = []\n",
    "    \n",
    "    for i in range(51):\n",
    "        labels.append(0)\n",
    "    \n",
    "    for idx in range(len(test_idx)):\n",
    "        i = test_idx[idx]\n",
    "        labels.append(origin_labels[i])\n",
    "    \n",
    "    return labels"
   ]
  },
  {
   "cell_type": "code",
   "execution_count": null,
   "metadata": {},
   "outputs": [],
   "source": [
    "for k in range(num_splits):\n",
    "    folder_name = root_path_kfold(arq_name, k)\n",
    "    \n",
    "    img_train = drishti_img_train.copy()\n",
    "    cup_train = drishti_cup_train.copy()\n",
    "    disc_train = drishti_disc_train.copy()\n",
    "    \n",
    "    img_test = drishti_img_test.copy()\n",
    "    cup_test = drishti_cup_test.copy()\n",
    "    disc_test = drishti_disc_test.copy()\n",
    "\n",
    "    join_images(train_idx_cv[k], img_train, cup_train, disc_train)\n",
    "    join_images(test_idx_cv[k], img_test, cup_test, disc_test)\n",
    "    \n",
    "    img_train_value = convert_to_lab(2, img_train)\n",
    "\n",
    "    train_idx = np.arange(0, len(train_idx_cv[k]) + 50)\n",
    "    test_idx  = np.arange(0, len(test_idx_cv[k]) + 51)\n",
    "    \n",
    "    labels = create_labels_list(test_idx_cv[k], rim_one_labels)\n",
    "    \n",
    "    print('------------- training cup --------------')\n",
    "    \n",
    "    X_valid, Y_valid = next(data_generator(img_test, cup_test, train_idx, test_idx, train_or_test = 'test', batch_size=100, stationary=True))\n",
    "    model = create_compile_model(img_size, lr_cup)\n",
    "    weights_folder = os.path.join(folder_name, 'models_weights', '{},{}'.format(datetime.now().strftime('%d.%m,%H-%M'), arch_name_cup))\n",
    "    \n",
    "    history_cup = train_cup(img_train_value, cup_train, 'cup_' + prefix_results, \n",
    "                         model, epochs, X_valid, Y_valid, img_size, spe, train_idx, test_idx, weights_folder)\n",
    "    \n",
    "    pred_iou, pred_dice, pred_cup = predict(img_test, X_valid, Y_valid, model, img_size, test_idx)\n",
    "    save_iou_dice(np.mean(pred_iou), np.mean(pred_dice), folder_name, prefix_results + '_mean_iou_dice_cup.csv')\n",
    "    save_predict_images(folder_name, 'cups', test_idx, pred_cup)\n",
    "        \n",
    "    print('------------- training disc --------------')\n",
    "    \n",
    "    X_valid, Z_valid = next(data_generator(img_test, disc_test, train_idx, test_idx, train_or_test='test', batch_size=100, stationary=True))\n",
    "    model_disc = create_compile_model(img_size, 1e-3)\n",
    "    weights_folder = os.path.join(folder_name, 'models_weights', '{},{}'.format(datetime.now().strftime('%d.%m,%H-%M'), arch_name_disc))\n",
    "    \n",
    "    img_train.extend(drions_img)\n",
    "    disc_train.extend(drions_disc)\n",
    "    \n",
    "    img_train_value = convert_to_lab(2, img_train)\n",
    "    \n",
    "    train_idx = np.arange(0, len(train_idx_cv[k]) + 110 + 50)\n",
    "\n",
    "    history_disc = train_disc(img_train_value, disc_train, 'disc_' + prefix_results, \n",
    "                         model_disc, epochs, X_valid, Z_valid, img_size, spe, train_idx, test_idx, weights_folder)\n",
    "    \n",
    "    pred_iou, pred_dice, pred_disc = predict(img_test, X_valid, Z_valid, model_disc, img_size, test_idx)\n",
    "    save_iou_dice(np.mean(pred_iou), np.mean(pred_dice), folder_name, prefix_results + '_mean_iou_dice_disc.csv')\n",
    "    save_predict_images(folder_name, 'discs', test_idx, pred_disc)\n",
    "    \n",
    "    print('------------- results --------------')\n",
    "    \n",
    "    plot_results(history_cup, epochs, folder_name, arq_name + '_cup')\n",
    "    plot_results(history_disc, epochs, folder_name, arq_name + '_disc')\n",
    "    df, diametros = create_table_result_rimone(pred_cup, pred_disc, test_idx, folder_name, prefix_results, labels) \n",
    "        \n",
    "    img_train.clear()\n",
    "    cup_train.clear()\n",
    "    disc_train.clear()\n",
    "    \n",
    "    img_test.clear()\n",
    "    cup_test.clear()\n",
    "    disc_test.clear()\n",
    "   "
   ]
  },
  {
   "cell_type": "code",
   "execution_count": null,
   "metadata": {},
   "outputs": [],
   "source": []
  }
 ],
 "metadata": {
  "kernelspec": {
   "display_name": "Python 3",
   "language": "python",
   "name": "python3"
  },
  "language_info": {
   "codemirror_mode": {
    "name": "ipython",
    "version": 3
   },
   "file_extension": ".py",
   "mimetype": "text/x-python",
   "name": "python",
   "nbconvert_exporter": "python",
   "pygments_lexer": "ipython3",
   "version": "3.9.0"
  }
 },
 "nbformat": 4,
 "nbformat_minor": 4
}
